{
  "nbformat": 4,
  "nbformat_minor": 0,
  "metadata": {
    "colab": {
      "name": "Prog1.ipynb",
      "provenance": [],
      "collapsed_sections": [],
      "authorship_tag": "ABX9TyM15c+lulmZlMRRaIZhhkuz",
      "include_colab_link": true
    },
    "kernelspec": {
      "name": "python3",
      "display_name": "Python 3"
    },
    "language_info": {
      "name": "python"
    }
  },
  "cells": [
    {
      "cell_type": "markdown",
      "metadata": {
        "id": "view-in-github",
        "colab_type": "text"
      },
      "source": [
        "<a href=\"https://colab.research.google.com/github/moulya16/ML-LAB/blob/main/Prog1.ipynb\" target=\"_parent\"><img src=\"https://colab.research.google.com/assets/colab-badge.svg\" alt=\"Open In Colab\"/></a>"
      ]
    },
    {
      "cell_type": "code",
      "metadata": {
        "colab": {
          "base_uri": "https://localhost:8080/"
        },
        "id": "r54kgSTRE-52",
        "outputId": "06b304d2-3e19-4d5f-d8a6-1081b5fc6045"
      },
      "source": [
        "import pandas as pd\n",
        "import numpy as np\n",
        "data = pd.read_csv('play.csv')\n",
        "concepts = np.array(data)[:,:-1]\n",
        "target = np.array(data)[:,-1]\n",
        "\n",
        "def train (tar,con):\n",
        "  for i,val in enumerate(tar):\n",
        "    if val=='yes':\n",
        "       specific = con[i].copy()\n",
        "       break\n",
        "  for i,val in enumerate(con):\n",
        "    if tar[i]=='yes':\n",
        "       for x in range(len(specific)):\n",
        "         if val[x]!=specific[x]:\n",
        "           specific[x]='?'\n",
        "         else:\n",
        "             pass\n",
        "    print(\"Specific[\",(i+1),\"]:\",str (specific))\n",
        "  return specific\n",
        "print(train(target,concepts))                           \n"
      ],
      "execution_count": null,
      "outputs": [
        {
          "output_type": "stream",
          "text": [
            "Specific[ 1 ]: ['sunny' 'warm' 'normal' 'strong' 'warm' 'same']\n",
            "Specific[ 2 ]: ['sunny' 'warm' '?' 'strong' 'warm' 'same']\n",
            "Specific[ 3 ]: ['sunny' 'warm' '?' 'strong' 'warm' 'same']\n",
            "Specific[ 4 ]: ['sunny' 'warm' '?' 'strong' 'warm' '?']\n",
            "['sunny' 'warm' '?' 'strong' 'warm' '?']\n"
          ],
          "name": "stdout"
        }
      ]
    }
  ]
}