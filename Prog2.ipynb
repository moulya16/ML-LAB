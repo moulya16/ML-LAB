{
  "nbformat": 4,
  "nbformat_minor": 0,
  "metadata": {
    "colab": {
      "name": "Prog2.ipynb",
      "provenance": [],
      "collapsed_sections": [],
      "authorship_tag": "ABX9TyOFTY/QE1MObtRVQUk8Rp8F",
      "include_colab_link": true
    },
    "kernelspec": {
      "name": "python3",
      "display_name": "Python 3"
    },
    "language_info": {
      "name": "python"
    }
  },
  "cells": [
    {
      "cell_type": "markdown",
      "metadata": {
        "id": "view-in-github",
        "colab_type": "text"
      },
      "source": [
        "<a href=\"https://colab.research.google.com/github/moulya16/ML-LAB/blob/main/Prog2.ipynb\" target=\"_parent\"><img src=\"https://colab.research.google.com/assets/colab-badge.svg\" alt=\"Open In Colab\"/></a>"
      ]
    },
    {
      "cell_type": "code",
      "metadata": {
        "colab": {
          "base_uri": "https://localhost:8080/"
        },
        "id": "vgwmKapOI6Ux",
        "outputId": "29e3578a-7686-4b52-b304-e54f375d7ce5"
      },
      "source": [
        "import pandas as pd\n",
        "import numpy as np\n",
        "data = pd.read_csv('play.csv')\n",
        "concept = np.array(data)[:,:-1]\n",
        "target = np.array(data)[:,-1]\n",
        "\n",
        "def train(con,tar):\n",
        "  specific = con[0].copy()\n",
        "  general=[['?' for x in range(len(specific))] for x in range(len(specific))]\n",
        "  for i,val in enumerate (con):\n",
        "      if tar[i]=='yes':\n",
        "         for x in range (len(specific)):\n",
        "             if val[x]!=specific[x]:\n",
        "                 specific[x] = '?'\n",
        "                 general[x][x] = '?'\n",
        "      else:\n",
        "          for x in range (len(specific)):\n",
        "              if val[x]!=specific[x]:\n",
        "                 general [x][x] = specific[x]\n",
        "              else:\n",
        "                 general[x][x] = '?'\n",
        "      print (\"Iteration [\"+str (i+1) +\"]\")\n",
        "      print (\"Specific:\"+str(specific))\n",
        "      print (\"General:\"+str (general)+\"\\n\\n\")\n",
        "  general = [general [i] for i,val in enumerate (general)if val!=['?' for x in range (len(specific))]]\n",
        "  return specific,general\n",
        "specific,general = train (concept, target)\n",
        "print(\"------------Final hypothesis------------\")\n",
        "print(\"Specific hypothesis:\" +str(specific))\n",
        "print(\"General hypothesis:\" +str(general))                 \n",
        "                                "
      ],
      "execution_count": null,
      "outputs": [
        {
          "output_type": "stream",
          "text": [
            "Iteration [1]\n",
            "Specific:['sunny' 'warm' 'normal' 'strong' 'warm' 'same']\n",
            "General:[['?', '?', '?', '?', '?', '?'], ['?', '?', '?', '?', '?', '?'], ['?', '?', '?', '?', '?', '?'], ['?', '?', '?', '?', '?', '?'], ['?', '?', '?', '?', '?', '?'], ['?', '?', '?', '?', '?', '?']]\n",
            "\n",
            "\n",
            "Iteration [2]\n",
            "Specific:['sunny' 'warm' '?' 'strong' 'warm' 'same']\n",
            "General:[['?', '?', '?', '?', '?', '?'], ['?', '?', '?', '?', '?', '?'], ['?', '?', '?', '?', '?', '?'], ['?', '?', '?', '?', '?', '?'], ['?', '?', '?', '?', '?', '?'], ['?', '?', '?', '?', '?', '?']]\n",
            "\n",
            "\n",
            "Iteration [3]\n",
            "Specific:['sunny' 'warm' '?' 'strong' 'warm' 'same']\n",
            "General:[['sunny', '?', '?', '?', '?', '?'], ['?', 'warm', '?', '?', '?', '?'], ['?', '?', '?', '?', '?', '?'], ['?', '?', '?', '?', '?', '?'], ['?', '?', '?', '?', '?', '?'], ['?', '?', '?', '?', '?', '?']]\n",
            "\n",
            "\n",
            "Iteration [4]\n",
            "Specific:['sunny' 'warm' '?' 'strong' '?' '?']\n",
            "General:[['sunny', '?', '?', '?', '?', '?'], ['?', 'warm', '?', '?', '?', '?'], ['?', '?', '?', '?', '?', '?'], ['?', '?', '?', '?', '?', '?'], ['?', '?', '?', '?', '?', '?'], ['?', '?', '?', '?', '?', '?']]\n",
            "\n",
            "\n",
            "------------Final hypothesis------------\n",
            "Specific hypothesis:['sunny' 'warm' '?' 'strong' '?' '?']\n",
            "General hypothesis:[['sunny', '?', '?', '?', '?', '?'], ['?', 'warm', '?', '?', '?', '?']]\n"
          ],
          "name": "stdout"
        }
      ]
    }
  ]
}