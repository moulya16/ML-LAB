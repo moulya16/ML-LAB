{
  "nbformat": 4,
  "nbformat_minor": 0,
  "metadata": {
    "colab": {
      "name": "Prog5.ipynb",
      "provenance": [],
      "collapsed_sections": [],
      "authorship_tag": "ABX9TyP+6xXEGqLMnV47Fgp4VIUo",
      "include_colab_link": true
    },
    "kernelspec": {
      "name": "python3",
      "display_name": "Python 3"
    },
    "language_info": {
      "name": "python"
    }
  },
  "cells": [
    {
      "cell_type": "markdown",
      "metadata": {
        "id": "view-in-github",
        "colab_type": "text"
      },
      "source": [
        "<a href=\"https://colab.research.google.com/github/moulya16/ML-LAB/blob/main/Prog5.ipynb\" target=\"_parent\"><img src=\"https://colab.research.google.com/assets/colab-badge.svg\" alt=\"Open In Colab\"/></a>"
      ]
    },
    {
      "cell_type": "code",
      "metadata": {
        "id": "OP3rJJUfAGBk"
      },
      "source": [
        "\n",
        "import pandas as pd\n",
        "import numpy as np\n",
        "import matplotlib.pyplot as plt\n",
        "\n",
        "from sklearn import tree, metrics,model_selection,preprocessing \n",
        "from sklearn.metrics import confusion_matrix\n",
        "\n",
        " #load the iris data\n",
        "\n",
        "df = pd.read_csv('iris.csv')\n",
        "\n",
        "df.head(5)\n",
        "\n",
        "df['species_label'],i = pd.factorize(df['species'])\n",
        "df['species'].unique()\n",
        "df['species_label'].unique()\n",
        "\n",
        "#select features\n",
        "\n",
        "y = df['species_label']\n",
        "x = df[['sepal.length','sepal.width','petal.length','petal.width']]\n",
        "\n",
        "#split data randomly into 70% training and 30% test\n",
        "\n",
        "x_train,x_test,y_train,y_test = model_selection.train_test_split(x,y,test_size = 0.3,random_state=0)\n",
        "\n",
        "\n",
        "\n",
        "dtree = tree.DecisionTreeClassifier(criterion = 'gini',max_depth = 3)\n",
        "dtree.fit(x_train,y_train)\n",
        "\n",
        "#testing the model\n",
        "\n",
        "y_pred = dtree.predict(x_test)\n",
        "\n",
        " \n",
        "\n",
        " \n",
        " \n",
        "\n",
        "\n",
        "\n",
        " \n",
        "\n",
        "  "
      ],
      "execution_count": 10,
      "outputs": []
    },
    {
      "cell_type": "code",
      "metadata": {
        "id": "ttDTN6CYBfGM",
        "colab": {
          "base_uri": "https://localhost:8080/"
        },
        "outputId": "9f946eb8-0e85-4f77-82d9-88ae2915f38e"
      },
      "source": [
        "accuracy = metrics.accuracy_score(y_test,y_pred)\n",
        "print('Accuracy:{:.2f}'.format(accuracy))"
      ],
      "execution_count": 11,
      "outputs": [
        {
          "output_type": "stream",
          "text": [
            "Accuracy:0.98\n"
          ],
          "name": "stdout"
        }
      ]
    },
    {
      "cell_type": "code",
      "metadata": {
        "colab": {
          "base_uri": "https://localhost:8080/"
        },
        "id": "REyl0g2D6uJF",
        "outputId": "65469fc1-2807-453e-be0e-d7a77f519b79"
      },
      "source": [
        "print(confusion_matrix(y_test,y_pred))"
      ],
      "execution_count": 12,
      "outputs": [
        {
          "output_type": "stream",
          "text": [
            "[[16  0  0]\n",
            " [ 0 17  1]\n",
            " [ 0  0 11]]\n"
          ],
          "name": "stdout"
        }
      ]
    }
  ]
}