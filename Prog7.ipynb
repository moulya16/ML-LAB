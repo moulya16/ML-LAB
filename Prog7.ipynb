{
  "nbformat": 4,
  "nbformat_minor": 0,
  "metadata": {
    "colab": {
      "name": "Prog7.ipynb",
      "provenance": [],
      "collapsed_sections": [],
      "authorship_tag": "ABX9TyNdadAFIfCLWLU0gy98cJXa",
      "include_colab_link": true
    },
    "kernelspec": {
      "name": "python3",
      "display_name": "Python 3"
    },
    "language_info": {
      "name": "python"
    }
  },
  "cells": [
    {
      "cell_type": "markdown",
      "metadata": {
        "id": "view-in-github",
        "colab_type": "text"
      },
      "source": [
        "<a href=\"https://colab.research.google.com/github/moulya16/ML-LAB/blob/main/Prog7.ipynb\" target=\"_parent\"><img src=\"https://colab.research.google.com/assets/colab-badge.svg\" alt=\"Open In Colab\"/></a>"
      ]
    },
    {
      "cell_type": "code",
      "metadata": {
        "colab": {
          "base_uri": "https://localhost:8080/",
          "height": 380
        },
        "id": "2t7eR4wuLU_x",
        "outputId": "ac6309b7-063c-47b9-9c97-a81e144cc22c"
      },
      "source": [
        "from sklearn.cluster import KMeans\n",
        "import pandas as pd\n",
        "from sklearn.preprocessing import MinMaxScaler \n",
        "from matplotlib import pyplot as plt\n",
        " \n",
        "df=pd.read_csv('iris2.csv') \n",
        "df.drop(['sepal.length','sepal.width'],axis='columns',inplace=True)\n",
        "df.head() \n",
        "plt.scatter(df['petal.length'],df['petal.width']) \n",
        "plt.xlabel('length') \n",
        "plt.ylabel('width') \n",
        "km=KMeans(n_clusters=3) \n",
        "yp=km.fit_predict(df)\n",
        "print(yp) \n",
        "df['cluster']=yp \n",
        "df.head(2) \n",
        "df1=df[df.cluster==0]\n",
        "df2=(df[df.cluster==1]) \n",
        "df3=(df[df.cluster==2]) \n",
        "plt.scatter(df1['petal.length'],df1['petal.width'],color='blue') \n",
        "plt.scatter(df2['petal.length'],df2['petal.width'],color='green') \n",
        "plt.scatter(df3['petal.length'],df3['petal.width'],color='red') \n",
        "#Elbo graph \n",
        "sse=[] \n",
        "k_rng=range(1,10) \n",
        "for k in k_rng:\n",
        "    km=KMeans(n_clusters=k)\n",
        "    km.fit(df)\n",
        "    sse.append(km.inertia_) \n",
        "plt.xlabel('K') \n",
        "plt.ylabel('Sum of squared error') \n",
        "plt.plot(k_rng,sse)\n",
        "\n",
        " \n",
        "\n",
        "\n",
        "\n",
        " \n",
        "\n",
        " "
      ],
      "execution_count": null,
      "outputs": [
        {
          "output_type": "stream",
          "text": [
            "[1 1 1 1 1 1 1 1 1 1 1 1 1 1 1 1 1 1 1 1 1 1 1 1 1 1 1 1 1 1 1 1 1 1 1 1 1\n",
            " 1 1 1 1 1 1 1 1 1 1 1 1 1 2 2 2 2 2 2 2 2 2 2 2 2 2 2 2 2 2 2 2 2 2 2 2 2\n",
            " 2 2 2 0 2 2 2 2 2 0 2 2 2 2 2 2 2 2 2 2 2 2 2 2 2 2 0 0 0 0 0 0 2 0 0 0 0\n",
            " 0 0 0 0 0 0 0 0 2 0 0 0 0 0 0 2 0 0 0 0 0 0 0 0 0 0 0 2 0 0 0 0 0 0 0 0 0\n",
            " 0 0]\n"
          ],
          "name": "stdout"
        },
        {
          "output_type": "execute_result",
          "data": {
            "text/plain": [
              "[<matplotlib.lines.Line2D at 0x7fb11cec1d10>]"
            ]
          },
          "metadata": {
            "tags": []
          },
          "execution_count": 1
        },
        {
          "output_type": "display_data",
          "data": {
            "image/png": "[encoded data removed]",
            "text/plain": [
              "<Figure size 432x288 with 1 Axes>"
            ]
          },
          "metadata": {
            "tags": [],
            "needs_background": "light"
          }
        }
      ]
    }
  ]
}