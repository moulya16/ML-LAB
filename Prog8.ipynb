{
  "nbformat": 4,
  "nbformat_minor": 0,
  "metadata": {
    "colab": {
      "name": "Prog8.ipynb",
      "provenance": [],
      "collapsed_sections": [],
      "authorship_tag": "ABX9TyPdacsafOARjoxgG+f41K9l",
      "include_colab_link": true
    },
    "kernelspec": {
      "name": "python3",
      "display_name": "Python 3"
    },
    "language_info": {
      "name": "python"
    }
  },
  "cells": [
    {
      "cell_type": "markdown",
      "metadata": {
        "id": "view-in-github",
        "colab_type": "text"
      },
      "source": [
        "<a href=\"https://colab.research.google.com/github/moulya16/ML-LAB/blob/main/Prog8.ipynb\" target=\"_parent\"><img src=\"https://colab.research.google.com/assets/colab-badge.svg\" alt=\"Open In Colab\"/></a>"
      ]
    },
    {
      "cell_type": "code",
      "metadata": {
        "colab": {
          "base_uri": "https://localhost:8080/"
        },
        "id": "2moaxNxLqhEZ",
        "outputId": "e3420ba1-d281-47d7-c372-4745a7bbd32c"
      },
      "source": [
        "import numpy as np\n",
        "\n",
        "def sigmoid(x):\n",
        "  return 1/(1+np.exp(-x))\n",
        "\n",
        "def sigmoid_derivation(x):\n",
        "  return x*(x-1)\n",
        "\n",
        "input = np.array([[0,0,1],\n",
        "                  [1,1,1],\n",
        "                  [1,0,1],\n",
        "                  [0,1,1]])\n",
        " \n",
        "a_output = np.array([[0,1,1,0]]).T\n",
        "\n",
        "np.random.seed(1)\n",
        " \n",
        "weights = 2* np.random.random((3,1)) -1\n",
        "\n",
        "print('Initial weights are:')\n",
        "print(weights) \n",
        "\n",
        "for i in range(35000):\n",
        "  input_layer = input \n",
        "\n",
        "  o_output = sigmoid(np.dot(input_layer,weights))\n",
        " \n",
        "  loss = o_output - a_output\n",
        "\n",
        "  adjustment = loss * sigmoid_derivation(o_output)\n",
        "\n",
        "  weights = weights + np.dot(input_layer.T,adjustment)\n",
        "\n",
        "print('new weights are:')\n",
        "print(weights)\n",
        " \n",
        "print('obtained output values are')\n",
        "print(o_output)\n",
        " \n",
        "\n",
        " \n",
        "\n"
      ],
      "execution_count": null,
      "outputs": [
        {
          "output_type": "stream",
          "text": [
            "Initial weights are:\n",
            "[[-0.16595599]\n",
            " [ 0.44064899]\n",
            " [-0.99977125]]\n",
            "new weights are:\n",
            "[[10.94837682]\n",
            " [-0.20554045]\n",
            " [-5.26921262]]\n",
            "obtained output values are\n",
            "[[0.00512137]\n",
            " [0.99582147]\n",
            " [0.99659517]\n",
            " [0.00417383]]\n"
          ],
          "name": "stdout"
        }
      ]
    }
  ]
}